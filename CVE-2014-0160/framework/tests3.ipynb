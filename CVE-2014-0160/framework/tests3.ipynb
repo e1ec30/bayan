{
 "cells": [
  {
   "cell_type": "code",
   "execution_count": null,
   "metadata": {},
   "outputs": [],
   "source": [
    "import angr\n",
    "proj = angr.Project(\"/home/e1ec30/workspace/code/bayan/bayan/libtiff/my_build/bin/tiffcp\", load_options={\"auto_load_libs\":False})\n",
    "entry = proj.factory.entry_state(args=[\"tiffcp\", \"/tmp/poc\", \"/tmp/foo\"])"
   ]
  },
  {
   "cell_type": "code",
   "execution_count": null,
   "metadata": {},
   "outputs": [],
   "source": [
    "poc_raw = open(\"../poc\", \"rb\").read()\n",
    "poc = angr.SimFile(\"/tmp/poc\", content=poc_raw, concrete=True, writable=False, has_end=True)\n",
    "out = angr.SimFile(\"/tmp/foo\")\n",
    "entry.fs.insert(\"/tmp/poc\", poc)\n",
    "entry.fs.insert(\"/tmp/foo\", out)"
   ]
  },
  {
   "cell_type": "code",
   "execution_count": null,
   "metadata": {},
   "outputs": [],
   "source": []
  },
  {
   "cell_type": "code",
   "execution_count": null,
   "metadata": {},
   "outputs": [],
   "source": [
    "strlen = angr.SIM_PROCEDURES[\"libc\"][\"strlen\"]\n",
    "exit = angr.procedures.libc.exit.exit\n",
    "\n",
    "class quit_hook(exit):\n",
    "    def run(self, *args):\n",
    "        super().run(0)\n",
    "        \n",
    "\n",
    "class strlen_hook(strlen):\n",
    "    def run(self, string):\n",
    "        print(self.solver.symbolic(string))\n",
    "        ret = super().run(string)\n",
    "        return ret\n",
    "    \n",
    "class getopt_hook(angr.sim_procedure.SimProcedure):\n",
    "    def run(self, *args):\n",
    "        #we don't need getopt\n",
    "        return -1\n"
   ]
  },
  {
   "cell_type": "code",
   "execution_count": null,
   "metadata": {},
   "outputs": [],
   "source": [
    "proj.hook_symbol(\"getopt\", getopt_hook())\n",
    "proj.hook_symbol(\"strlen\", strlen_hook())"
   ]
  },
  {
   "cell_type": "code",
   "execution_count": null,
   "metadata": {},
   "outputs": [],
   "source": [
    "import logging\n",
    "l = logging.getLogger('angr.engines.unicorn_engine').setLevel(\"DEBUG\")\n",
    "#l.setLevel(\"ERROR\")"
   ]
  },
  {
   "cell_type": "code",
   "execution_count": null,
   "metadata": {},
   "outputs": [],
   "source": [
    "sim = proj.factory.simgr(entry)"
   ]
  },
  {
   "cell_type": "code",
   "execution_count": null,
   "metadata": {},
   "outputs": [],
   "source": [
    "class TimeoutError(Exception): # So we can limit execution time\n",
    "    pass\n",
    "\n",
    "def handle_timeout(signum, frame):\n",
    "    raise TimeoutError(\"Timeout\")"
   ]
  },
  {
   "cell_type": "code",
   "execution_count": null,
   "metadata": {},
   "outputs": [],
   "source": [
    "import signal, time\n",
    "def run_with_timeout(func, timeout, *args, **kwargs):\n",
    "    signal.signal(signal.SIGALRM, handle_timeout)\n",
    "\n",
    "    begin_time = time.time()\n",
    "\n",
    "    signal.alarm(timeout)\n",
    "    try:\n",
    "        result = func(*args, **kwargs)\n",
    "\n",
    "    except TimeoutError:\n",
    "        #print(f\"{func} timed out\")\n",
    "        result = None\n",
    "        pass\n",
    "\n",
    "    finally:\n",
    "        end_time = time.time()\n",
    "        total_time = int(end_time - begin_time)\n",
    "        signal.alarm(0)\n",
    "\n",
    "    return total_time, result"
   ]
  },
  {
   "cell_type": "code",
   "execution_count": null,
   "metadata": {},
   "outputs": [],
   "source": [
    "run_with_timeout(sim.run, 1 * 60)"
   ]
  },
  {
   "cell_type": "code",
   "execution_count": 110,
   "metadata": {},
   "outputs": [
    {
     "data": {
      "text/plain": [
       "[<Bool unconstrained_ret_TIFFOpen_616_64{UNINITIALIZED} != 0x0>,\n",
       " <Bool unconstrained_ret_TIFFOpen_618_64{UNINITIALIZED} != 0x0>,\n",
       " <Bool unconstrained_ret_TIFFGetField_620_64{UNINITIALIZED}[31:0] == 0x0>,\n",
       " <Bool unconstrained_ret_TIFFGetField_622_64{UNINITIALIZED}[31:0] == 0x0>,\n",
       " <Bool unconstrained_ret_TIFFGetField_625_64{UNINITIALIZED}[31:0] == 0x0>,\n",
       " <Bool unconstrained_ret_TIFFGetField_629_64{UNINITIALIZED}[31:0] == 0x0>,\n",
       " <Bool unconstrained_ret_TIFFGetField_641_64{UNINITIALIZED}[31:0] == 0x0>,\n",
       " <Bool mem_7fffffffffefece_660_16{UNINITIALIZED} == 0x7>,\n",
       " <Bool unconstrained_ret_TIFFGetField_786_64{UNINITIALIZED}[31:0] == 0x0>,\n",
       " <Bool unconstrained_ret_TIFFGetField_920_64{UNINITIALIZED}[31:0] == 0x0>,\n",
       " <Bool unconstrained_ret_TIFFIsTiled_1611_64{UNINITIALIZED}[31:0] == 0x0>,\n",
       " <Bool unconstrained_ret_TIFFGetField_2023_64{UNINITIALIZED}[31:0] == 0x0>]"
      ]
     },
     "execution_count": 110,
     "metadata": {},
     "output_type": "execute_result"
    }
   ],
   "source": [
    "sim.one_active.solver.constraints"
   ]
  },
  {
   "cell_type": "code",
   "execution_count": null,
   "metadata": {},
   "outputs": [],
   "source": [
    "from helpers import hash_state\n",
    "st = set()"
   ]
  },
  {
   "cell_type": "code",
   "execution_count": null,
   "metadata": {},
   "outputs": [],
   "source": [
    "for s in sim.deadended:\n",
    "    if hash_state(s) not in st:\n",
    "        try:\n",
    "            print(hex(s.addr), \":\", proj.loader.find_symbol(s.addr).name)\n",
    "        except:\n",
    "            pass\n",
    "        for cs in s.callstack:\n",
    "            try:\n",
    "                print(f\"{hex(cs.func_addr)} : {proj.loader.find_symbol(cs.func_addr).name}\")\n",
    "            except Exception as e:\n",
    "                continue\n",
    "        st.add(hash_state(s))\n",
    "        print()\n"
   ]
  },
  {
   "cell_type": "code",
   "execution_count": null,
   "metadata": {},
   "outputs": [],
   "source": []
  },
  {
   "cell_type": "code",
   "execution_count": null,
   "metadata": {},
   "outputs": [],
   "source": []
  }
 ],
 "metadata": {
  "kernelspec": {
   "display_name": "angr",
   "language": "python",
   "name": "python3"
  },
  "language_info": {
   "codemirror_mode": {
    "name": "ipython",
    "version": 3
   },
   "file_extension": ".py",
   "mimetype": "text/x-python",
   "name": "python",
   "nbconvert_exporter": "python",
   "pygments_lexer": "ipython3",
   "version": "3.10.6"
  },
  "orig_nbformat": 4
 },
 "nbformat": 4,
 "nbformat_minor": 2
}
