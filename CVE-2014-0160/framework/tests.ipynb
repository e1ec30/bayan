{
 "cells": [
  {
   "cell_type": "code",
   "execution_count": 18,
   "metadata": {},
   "outputs": [],
   "source": [
    "import angr\n",
    "import logging\n",
    "l = logging.getLogger()\n",
    "l.setLevel(logging.ERROR)\n",
    "proj = angr.Project(\"../nginx/build/sbin/nginx\",load_options={\"auto_load_libs\":False})\n",
    "\n",
    "loophead = proj.loader.find_symbol(\"ngx_event_accept\").rebased_addr\n",
    "entry = proj.factory.entry_state(concrete_fs=True, add_options=angr.options.unicorn)\n",
    "entry.options.add(angr.options.UNICORN_HANDLE_CGC_TRANSMIT_SYSCALL)\n",
    "entry.options.update({angr.options.UNICORN_AGGRESSIVE_CONCRETIZATION, angr.options.UNICORN_HANDLE_SYMBOLIC_CONDITIONS, angr.options.UNICORN_HANDLE_CGC_RECEIVE_SYSCALL, angr.options.UNICORN_HANDLE_SYMBOLIC_SYSCALLS})"
   ]
  },
  {
   "cell_type": "code",
   "execution_count": null,
   "metadata": {},
   "outputs": [],
   "source": []
  },
  {
   "cell_type": "code",
   "execution_count": 19,
   "metadata": {},
   "outputs": [],
   "source": [
    "from detectors import NginxHeartBleedDetector\n",
    "import sims\n",
    "det = NginxHeartBleedDetector()\n",
    "det.attach(proj)"
   ]
  },
  {
   "cell_type": "code",
   "execution_count": 29,
   "metadata": {},
   "outputs": [
    {
     "data": {
      "text/plain": [
       "4848325"
      ]
     },
     "execution_count": 29,
     "metadata": {},
     "output_type": "execute_result"
    }
   ],
   "source": [
    "proj.hook_symbol(\"clock_gettime\", sims.gettime_hook())\n",
    "proj.hook_symbol(\"ngx_time_init\", sims.ngx_time_init_hook())\n",
    "#proj.hook_symbol(\"ERR_load_strings\", sims.ngx_time_init_hook())"
   ]
  },
  {
   "cell_type": "code",
   "execution_count": 21,
   "metadata": {},
   "outputs": [],
   "source": [
    "from main import run_with_timeout"
   ]
  },
  {
   "cell_type": "code",
   "execution_count": 30,
   "metadata": {},
   "outputs": [],
   "source": [
    "sim = proj.factory.simgr(entry)\n"
   ]
  },
  {
   "cell_type": "code",
   "execution_count": 23,
   "metadata": {},
   "outputs": [],
   "source": [
    "#logging.getLogger('angr.engines.unicorn_engine').setLevel('DEBUG'); \n",
    "#logging.getLogger('angr.state_plugins.unicorn_engine').setLevel('DEBUG')"
   ]
  },
  {
   "cell_type": "code",
   "execution_count": 31,
   "metadata": {},
   "outputs": [],
   "source": [
    "def a():\n",
    "    while True:\n",
    "        try:\n",
    "            sim.step()\n",
    "        except KeyboardInterrupt:\n",
    "            break"
   ]
  },
  {
   "cell_type": "code",
   "execution_count": 32,
   "metadata": {},
   "outputs": [
    {
     "data": {
      "text/plain": [
       "(60, None)"
      ]
     },
     "execution_count": 32,
     "metadata": {},
     "output_type": "execute_result"
    }
   ],
   "source": [
    "run_with_timeout(a, 1 * 60)"
   ]
  },
  {
   "cell_type": "code",
   "execution_count": 33,
   "metadata": {},
   "outputs": [
    {
     "data": {
      "text/plain": [
       "<SimulationManager with 1 active>"
      ]
     },
     "execution_count": 33,
     "metadata": {},
     "output_type": "execute_result"
    }
   ],
   "source": [
    "sim"
   ]
  },
  {
   "cell_type": "code",
   "execution_count": 34,
   "metadata": {},
   "outputs": [
    {
     "name": "stdout",
     "output_type": "stream",
     "text": [
      "main\n",
      "\n"
     ]
    }
   ],
   "source": []
  },
  {
   "cell_type": "code",
   "execution_count": null,
   "metadata": {},
   "outputs": [],
   "source": []
  },
  {
   "cell_type": "code",
   "execution_count": null,
   "metadata": {},
   "outputs": [],
   "source": []
  }
 ],
 "metadata": {
  "kernelspec": {
   "display_name": "angr",
   "language": "python",
   "name": "python3"
  },
  "language_info": {
   "codemirror_mode": {
    "name": "ipython",
    "version": 3
   },
   "file_extension": ".py",
   "mimetype": "text/x-python",
   "name": "python",
   "nbconvert_exporter": "python",
   "pygments_lexer": "ipython3",
   "version": "3.10.6"
  },
  "orig_nbformat": 4
 },
 "nbformat": 4,
 "nbformat_minor": 2
}
